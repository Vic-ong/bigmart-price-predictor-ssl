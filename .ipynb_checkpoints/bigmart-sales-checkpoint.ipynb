{
 "cells": [
  {
   "cell_type": "code",
   "execution_count": 7,
   "metadata": {},
   "outputs": [],
   "source": [
    "import pandas as pd\n",
    "import numpy as np\n",
    "import matplotlib.pyplot as plt\n",
    "%matplotlib inline\n",
    "from sklearn.preprocessing import LabelEncoder"
   ]
  },
  {
   "cell_type": "markdown",
   "metadata": {},
   "source": [
    "**Read data sets from file**"
   ]
  },
  {
   "cell_type": "code",
   "execution_count": 8,
   "metadata": {},
   "outputs": [],
   "source": [
    "train = pd.read_csv('./Test.csv')\n",
    "test = pd.read_csv('./Train.csv')"
   ]
  },
  {
   "cell_type": "markdown",
   "metadata": {},
   "source": [
    "**Preprocess data**"
   ]
  },
  {
   "cell_type": "code",
   "execution_count": 9,
   "metadata": {},
   "outputs": [],
   "source": [
    "# features to keep\n",
    "fields = [\n",
    "    'Item_Weight',\n",
    "    'Item_Fat_Content',\n",
    "    'Outlet_Establishment_Year',\n",
    "    'Outlet_Size',\n",
    "    'Item_Visibility',\n",
    "    'Item_MRP',\n",
    "    'Outlet_Location_Type',\n",
    "    'Outlet_Type',\n",
    "    'Item_Outlet_Sales'\n",
    "]\n",
    "\n",
    "train = train[train.columns.intersection(fields)]\n",
    "test = test[test.columns.intersection(fields)]"
   ]
  },
  {
   "cell_type": "code",
   "execution_count": 10,
   "metadata": {},
   "outputs": [],
   "source": [
    "# impute mean\n",
    "train['Item_Weight'].fillna((train['Item_Weight'].mean()), inplace=True)\n",
    "test['Item_Weight'].fillna((test['Item_Weight'].mean()), inplace=True)\n",
    "\n",
    "# reduce fat content to two categories\n",
    "train['Item_Fat_Content'] = train['Item_Fat_Content'].replace(\n",
    "    ['low fat', 'LF'], ['Low Fat', 'Low Fat'])\n",
    "train['Item_Fat_Content'] = train['Item_Fat_Content'].replace(['reg'], [\n",
    "                                                              'Regular'])\n",
    "test['Item_Fat_Content'] = test['Item_Fat_Content'].replace(\n",
    "    ['low fat', 'LF'], ['Low Fat', 'Low Fat'])\n",
    "test['Item_Fat_Content'] = test['Item_Fat_Content'].replace(['reg'], [\n",
    "                                                            'Regular'])\n",
    "\n",
    "# calculate establishment year\n",
    "train['Outlet_Establishment_Year'] = 2013 - train['Outlet_Establishment_Year']\n",
    "test['Outlet_Establishment_Year'] = 2013 - test['Outlet_Establishment_Year']\n",
    "# default small for missing outlet_size\n",
    "train['Outlet_Size'].fillna('Small', inplace=True)\n",
    "test['Outlet_Size'].fillna('Small', inplace=True)\n",
    "\n",
    "# label encoding cate. var.\n",
    "col = ['Outlet_Size', 'Outlet_Location_Type',\n",
    "       'Outlet_Type', 'Item_Fat_Content']\n",
    "test['Item_Outlet_Sales'] = 0\n",
    "\n",
    "combi = train.append(test)\n",
    "number = LabelEncoder()\n",
    "for i in col:\n",
    "    combi[i] = number.fit_transform(combi[i].astype('str'))\n",
    "    combi[i] = combi[i].astype('int')\n",
    "train = combi[:train.shape[0]]\n",
    "test = combi[train.shape[0]:]\n",
    "test = test.drop('Item_Outlet_Sales', axis=1)\n",
    "\n",
    "# set features and labels\n",
    "y_train = train['Item_Outlet_Sales']\n",
    "train = train.drop('Item_Outlet_Sales', axis=1)\n",
    "\n",
    "features = train.columns\n",
    "target = 'Item_Outlet_Sales'\n",
    "\n",
    "X_train, X_test = train, test"
   ]
  },
  {
   "cell_type": "code",
   "execution_count": null,
   "metadata": {},
   "outputs": [],
   "source": []
  },
  {
   "cell_type": "code",
   "execution_count": null,
   "metadata": {},
   "outputs": [],
   "source": []
  }
 ],
 "metadata": {
  "kernelspec": {
   "display_name": "Python 3",
   "language": "python",
   "name": "python3"
  },
  "language_info": {
   "codemirror_mode": {
    "name": "ipython",
    "version": 2
   },
   "file_extension": ".py",
   "mimetype": "text/x-python",
   "name": "python",
   "nbconvert_exporter": "python",
   "pygments_lexer": "ipython2",
   "version": "2.7.14"
  }
 },
 "nbformat": 4,
 "nbformat_minor": 2
}
